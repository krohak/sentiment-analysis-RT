{
 "cells": [
  {
   "cell_type": "markdown",
   "metadata": {},
   "source": [
    "# Sentiment Analysis using Neural Networks on the RT dataset\n",
    "created by krohak on 2018-03-10"
   ]
  },
  {
   "cell_type": "markdown",
   "metadata": {},
   "source": [
    "We first import necessary modules."
   ]
  },
  {
   "cell_type": "code",
   "execution_count": 1,
   "metadata": {},
   "outputs": [
    {
     "name": "stderr",
     "output_type": "stream",
     "text": [
      "/home/krohak/anaconda3/lib/python3.6/importlib/_bootstrap.py:205: RuntimeWarning: compiletime version 3.5 of module 'tensorflow.python.framework.fast_tensor_util' does not match runtime version 3.6\n",
      "  return f(*args, **kwds)\n"
     ]
    }
   ],
   "source": [
    "import numpy as np\n",
    "import tensorflow as tf\n",
    "import matplotlib.pyplot as plt\n",
    "%matplotlib inline\n",
    "\n",
    "from os import listdir\n",
    "from os.path import isfile, join\n",
    "import re\n",
    "\n",
    "from random import randint\n",
    "import datetime"
   ]
  },
  {
   "cell_type": "markdown",
   "metadata": {},
   "source": [
    "The explanation is divided into three parts. \n",
    "- In the first part, we outline how to create an IDs Matrix, which is a matrix containing the vector ID of each word in all files in the dataset. This code is provided in the `preprocess.py` file.\n",
    "- In the second part, we create our neural network and train it on the preprocessed data. This code is in the `train.py` file\n",
    "- In the third part, we test our neural network. `test.py` has the code."
   ]
  },
  {
   "cell_type": "markdown",
   "metadata": {},
   "source": [
    "## 1 - Preprocessing"
   ]
  },
  {
   "cell_type": "markdown",
   "metadata": {},
   "source": [
    "For preprocessing the data, we need to create word vectors from each word, in each file of the positive and negative folders. We're going to be using [GloVe](http://nlp.stanford.edu/projects/glove/), a pretrained model which contains 400,000 word vectors. We will be using the [Wikipedia dataset with 50 dimensional embedding](https://www.damienpontifex.com/2017/10/27/using-pre-trained-glove-embeddings-in-tensorflow/).\n",
    "\n",
    "After performing `tar -xvzf data.tar.gz`, we get wordsList.npy, wordVectors.npy and idsMatrix2.py. wordsList is the list with the 400,000 words and wordVectors is a 400,000 x 50 dimensional embedding matrix that holds all of the word vector values. "
   ]
  },
  {
   "cell_type": "code",
   "execution_count": 2,
   "metadata": {},
   "outputs": [],
   "source": [
    "wordsList = np.load('wordsList.npy')\n",
    "wordsList = wordsList.tolist() \n",
    "wordsList = [word.decode('UTF-8') for word in wordsList] \n",
    "wordVectors = np.load('wordVectors.npy')"
   ]
  },
  {
   "cell_type": "code",
   "execution_count": 3,
   "metadata": {},
   "outputs": [
    {
     "name": "stdout",
     "output_type": "stream",
     "text": [
      "400000\n",
      "(400000, 50)\n"
     ]
    }
   ],
   "source": [
    "print(len(wordsList))\n",
    "print(wordVectors.shape)"
   ]
  },
  {
   "cell_type": "markdown",
   "metadata": {},
   "source": [
    "Before creating the ids matrix for the whole dataset, let’s first take some time to visualize the type of data that we have. This will help us determine the best value for setting our maximum sequence length. "
   ]
  },
  {
   "cell_type": "code",
   "execution_count": 4,
   "metadata": {
    "scrolled": true
   },
   "outputs": [
    {
     "name": "stdout",
     "output_type": "stream",
     "text": [
      "txt_sentoken/pos/cv091_7400.txt\n",
      "Positive files finished\n",
      "Negative files finished\n",
      "The total number of files is 2000\n",
      "The total number of words in the files is 1492681\n",
      "The average number of words in the files is 746.3405\n"
     ]
    }
   ],
   "source": [
    "positiveFiles = ['txt_sentoken/pos/' + f for f in listdir('txt_sentoken/pos/') if isfile(join('txt_sentoken/pos/', f))]\n",
    "negativeFiles = ['txt_sentoken/neg/' + f for f in listdir('txt_sentoken/neg/') if isfile(join('txt_sentoken/neg/', f))]\n",
    "print(positiveFiles[0])\n",
    "numWords = []\n",
    "for pf in positiveFiles:\n",
    "    with open(pf, \"r\", encoding='utf-8') as f:\n",
    "        lines=f.readlines()\n",
    "        counter = 0\n",
    "        for line in lines:\n",
    "            counter += len(line.split())\n",
    "        numWords.append(counter)\n",
    "print('Positive files finished')\n",
    "\n",
    "for nf in negativeFiles:\n",
    "    with open(nf, \"r\", encoding='utf-8') as f:\n",
    "        lines=f.readlines()\n",
    "        counter = 0\n",
    "        for line in lines:\n",
    "            counter += len(line.split())\n",
    "        numWords.append(counter)\n",
    "print('Negative files finished')\n",
    "\n",
    "numFiles = len(numWords)\n",
    "print('The total number of files is', numFiles)\n",
    "print('The total number of words in the files is', sum(numWords))\n",
    "print('The average number of words in the files is', sum(numWords)/len(numWords))"
   ]
  },
  {
   "cell_type": "code",
   "execution_count": 5,
   "metadata": {},
   "outputs": [
    {
     "data": {
      "text/plain": [
       "2678"
      ]
     },
     "execution_count": 5,
     "metadata": {},
     "output_type": "execute_result"
    }
   ],
   "source": [
    "max(numWords)"
   ]
  },
  {
   "cell_type": "markdown",
   "metadata": {},
   "source": [
    "Visualize the data in a histogram, so that we can compare the frequences and sequence length. "
   ]
  },
  {
   "cell_type": "code",
   "execution_count": 6,
   "metadata": {},
   "outputs": [
    {
     "data": {
      "image/png": "[encoded data removed]",
      "text/plain": [
       "<matplotlib.figure.Figure at 0x7f7c05231c18>"
      ]
     },
     "metadata": {},
     "output_type": "display_data"
    }
   ],
   "source": [
    "plt.hist(numWords, 50)\n",
    "plt.xlabel('Sequence Length')\n",
    "plt.ylabel('Frequency')\n",
    "plt.show()"
   ]
  },
  {
   "cell_type": "markdown",
   "metadata": {},
   "source": [
    "From the histogram as well as the average number of words per file, we can safely say that most reviews will fall under 750 words, which is the max sequence length value we will set. "
   ]
  },
  {
   "cell_type": "code",
   "execution_count": 7,
   "metadata": {
    "collapsed": true
   },
   "outputs": [],
   "source": [
    "maxSeqLength = 750"
   ]
  },
  {
   "cell_type": "markdown",
   "metadata": {},
   "source": [
    "Let's take a single file and transform it into our ids matrix. This is what the first line of one of the reviews looks like:"
   ]
  },
  {
   "cell_type": "code",
   "execution_count": 8,
   "metadata": {},
   "outputs": [
    {
     "name": "stdout",
     "output_type": "stream",
     "text": [
      "txt_sentoken/pos/cv897_10837.txt\n",
      "i must admit that i was a tad skeptical of \" good will hunting \" , based both on the previews and the first fifteen minutes of the film , in which the main character will hunting ( matt damon ) , an mit janitor in his early twenties , is discovered to be an einstein-level closet genius when he solves two extraordinarily difficult math problems overnight . \n",
      "\n"
     ]
    }
   ],
   "source": [
    "fname = positiveFiles[740] #Can use any valid index (not just 3)\n",
    "print(fname)\n",
    "with open(fname) as f:\n",
    "    for lines in f:\n",
    "        print(lines)\n",
    "        break"
   ]
  },
  {
   "cell_type": "markdown",
   "metadata": {},
   "source": [
    "Lets create a function for removing punctuation, parentheses, question marks, etc., and leave only alphanumeric characters."
   ]
  },
  {
   "cell_type": "code",
   "execution_count": 9,
   "metadata": {
    "collapsed": true
   },
   "outputs": [],
   "source": [
    "strip_special_chars = re.compile(\"[^A-Za-z0-9 ]+\")\n",
    "\n",
    "def cleanSentences(string):\n",
    "    string = string.lower().replace(\"<br />\", \" \")\n",
    "    return re.sub(strip_special_chars, \"\", string.lower())"
   ]
  },
  {
   "cell_type": "markdown",
   "metadata": {},
   "source": [
    "Now, let's convert to to an ids matrix"
   ]
  },
  {
   "cell_type": "code",
   "execution_count": 10,
   "metadata": {},
   "outputs": [
    {
     "name": "stdout",
     "output_type": "stream",
     "text": [
      "shape: (750,)\n"
     ]
    },
    {
     "data": {
      "text/plain": [
       "(array([     6,     42,     78,   2103,     88,      6,    853,   1650,\n",
       "            43,  11228,    101,    138,     17,      7,  57044,  19980,\n",
       "         11225,      3,    473,    417,   4311,      6,    637,  16574,\n",
       "          1483,     17,     26,   1095,     96,   3722,  49733,   2663,\n",
       "         25859,     14,   1140,    871,  18068,     83,   3779,   2241,\n",
       "        201534,    319,     31,    558,   2054,      3, 201534,   3880,\n",
       "          1388,     42,     15,     96,    647, 201534,   1247,     10,\n",
       "            47, 399999,      5,  20001,   1003,    143,      4, 201534,\n",
       "           380,      3,  16574,   1395,   1679,     64,     37,      4,\n",
       "        201534,    853,     12,    219,     43,   4429,    151,   6297,\n",
       "             4,   2933,    138,     29,  28687,   1751,   1945,    296,\n",
       "           881,  23808,  17614,      5,     81,    414,     30,   9215,\n",
       "           738,     41, 201398,    454,     37,    319,    133,   1569,\n",
       "           143,     10,     48,    873,     84,   1120,    197,    143,\n",
       "         10820,      5,  25859,     38,    836, 201534,   9045,      5,\n",
       "           369,  17788,   1461,  17354,   2933,     20,    138, 201534,\n",
       "           523,     14,    149,    871,  30761,      5,     36,   1113,\n",
       "           929,     63,     32,     52,      7,    306,   3468,     12,\n",
       "           119,    998,      7,   1594,  44004,    144], dtype=int32), None)"
      ]
     },
     "execution_count": 10,
     "metadata": {},
     "output_type": "execute_result"
    }
   ],
   "source": [
    "firstFile = np.zeros((maxSeqLength), dtype='int32')\n",
    "with open(fname) as f:\n",
    "    indexCounter = 0\n",
    "    lines=f.readlines()\n",
    "    for line in lines:\n",
    "        cleanedLine = cleanSentences(line)\n",
    "        split = cleanedLine.split()\n",
    "        #print(split)\n",
    "        for word in split:\n",
    "            if indexCounter < maxSeqLength:\n",
    "                try:\n",
    "                    firstFile[indexCounter] = wordsList.index(word)\n",
    "                except ValueError:\n",
    "                    firstFile[indexCounter] = 399999 #Vector for unknown words\n",
    "            indexCounter = indexCounter + 1\n",
    "firstFile[600:], print(\"shape:\", firstFile.shape)"
   ]
  },
  {
   "cell_type": "markdown",
   "metadata": {},
   "source": [
    "Now, let's do the same for each of our 2000 reviews in the Rotten Tomatoes dataset. \n",
    "\n",
    "Instead of computing the ids matrix, we can load in a pre-computed IDs matrix."
   ]
  },
  {
   "cell_type": "code",
   "execution_count": 11,
   "metadata": {
    "collapsed": true
   },
   "outputs": [],
   "source": [
    "# ids = np.zeros((numFiles, maxSeqLength), dtype='int32')\n",
    "\n",
    "# fileCounter = 0\n",
    "\n",
    "# for pf in positiveFiles:\n",
    "#     with open(pf, \"r\") as f:\n",
    "#         indexCounter = 0\n",
    "#         lines=f.readlines()\n",
    "#         for line in lines:\n",
    "#             cleanedLine = cleanSentences(line)\n",
    "#             split = cleanedLine.split()\n",
    "#             for word in split:\n",
    "#                 try:\n",
    "#                     ids[fileCounter][indexCounter] = wordsList.index(word)\n",
    "#                 except ValueError:\n",
    "#                     ids[fileCounter][indexCounter] = 399999 #Vector for unkown words\n",
    "#                 print(fileCounter,indexCounter)\n",
    "#                 indexCounter = indexCounter + 1\n",
    "#                 if indexCounter >= maxSeqLength:\n",
    "#                     break\n",
    "#             if indexCounter >= maxSeqLength:\n",
    "#                     break\n",
    "#         fileCounter = fileCounter + 1\n",
    "\n",
    "# for nf in negativeFiles:\n",
    "#     with open(nf, \"r\") as f:\n",
    "#         indexCounter = 0\n",
    "#         lines=f.readlines()\n",
    "#         for line in lines:\n",
    "#             cleanedLine = cleanSentences(line)\n",
    "#             split = cleanedLine.split()\n",
    "#             for word in split:\n",
    "#                 try:\n",
    "#                     ids[fileCounter][indexCounter] = wordsList.index(word)\n",
    "#                 except ValueError:\n",
    "#                     ids[fileCounter][indexCounter] = 399999 #Vector for unkown words\n",
    "#                 indexCounter = indexCounter + 1\n",
    "#                 if indexCounter >= maxSeqLength:\n",
    "#                     break\n",
    "#             if indexCounter >= maxSeqLength:\n",
    "#                     break\n",
    "#         fileCounter = fileCounter + 1\n",
    "\n",
    "# np.save('idsMatrix2', ids)"
   ]
  },
  {
   "cell_type": "code",
   "execution_count": 12,
   "metadata": {
    "collapsed": true
   },
   "outputs": [],
   "source": [
    "# load precomputed ids\n",
    "ids = np.load('idsMatrix2.npy')"
   ]
  },
  {
   "cell_type": "code",
   "execution_count": 13,
   "metadata": {},
   "outputs": [
    {
     "data": {
      "text/plain": [
       "(2000, 750)"
      ]
     },
     "execution_count": 13,
     "metadata": {},
     "output_type": "execute_result"
    }
   ],
   "source": [
    "ids.shape"
   ]
  },
  {
   "cell_type": "markdown",
   "metadata": {},
   "source": [
    "## 2 - Training"
   ]
  },
  {
   "cell_type": "markdown",
   "metadata": {},
   "source": [
    "### The RNN Model"
   ]
  },
  {
   "cell_type": "markdown",
   "metadata": {},
   "source": [
    "Now, we’re ready to start creating our Tensorflow graph. We’ll first need to define some hyperparameters, such as batch size, number of LSTM units, number of output classes, and number of training iterations. "
   ]
  },
  {
   "cell_type": "code",
   "execution_count": 14,
   "metadata": {
    "collapsed": true
   },
   "outputs": [],
   "source": [
    "batchSize = 24\n",
    "lstmUnits = 64\n",
    "numClasses = 2\n",
    "iterations = 100000\n",
    "numDimensions = 300"
   ]
  },
  {
   "cell_type": "code",
   "execution_count": 15,
   "metadata": {
    "collapsed": true
   },
   "outputs": [],
   "source": [
    "import tensorflow as tf\n",
    "tf.reset_default_graph()\n",
    "\n",
    "labels = tf.placeholder(tf.float32, [batchSize, numClasses])\n",
    "input_data = tf.placeholder(tf.int32, [batchSize, maxSeqLength])"
   ]
  },
  {
   "cell_type": "markdown",
   "metadata": {},
   "source": [
    "Once we have our input data placeholder, we’re going to call the tf.nn.embedding_lookup() function in order to get our word vectors. "
   ]
  },
  {
   "cell_type": "code",
   "execution_count": 16,
   "metadata": {},
   "outputs": [],
   "source": [
    "data = tf.Variable(tf.zeros([batchSize, maxSeqLength, numDimensions]),dtype=tf.float32)\n",
    "data = tf.nn.embedding_lookup(wordVectors,input_data)"
   ]
  },
  {
   "cell_type": "markdown",
   "metadata": {},
   "source": [
    "We’re then going to call the tf.nn.rnn_cell.BasicLSTMCell function.  We’ll then wrap that LSTM cell in a dropout layer to help prevent the network from overfitting. Finally, we’ll feed both the LSTM cell and the 3-D tensor full of input data into a function called tf.nn.dynamic_rnn. This function is in charge of unrolling the whole network and creating a pathway for the data to flow through the RNN graph."
   ]
  },
  {
   "cell_type": "code",
   "execution_count": 17,
   "metadata": {
    "collapsed": true
   },
   "outputs": [],
   "source": [
    "lstmCell = tf.contrib.rnn.BasicLSTMCell(lstmUnits)\n",
    "lstmCell = tf.contrib.rnn.DropoutWrapper(cell=lstmCell, output_keep_prob=0.75)\n",
    "value, _ = tf.nn.dynamic_rnn(lstmCell, data, dtype=tf.float32)"
   ]
  },
  {
   "cell_type": "markdown",
   "metadata": {},
   "source": [
    "The first output of the dynamic RNN function can be thought of as the last hidden state vector. This vector will be reshaped and then multiplied by a final weight matrix and a bias term to obtain the final output values."
   ]
  },
  {
   "cell_type": "code",
   "execution_count": 18,
   "metadata": {
    "collapsed": true
   },
   "outputs": [],
   "source": [
    "value = tf.transpose(value, [1, 0, 2])\n",
    "last = tf.gather(value, int(value.get_shape()[0]) - 1)\n",
    "\n",
    "weight = tf.Variable(tf.truncated_normal([lstmUnits, numClasses]))\n",
    "bias = tf.Variable(tf.constant(0.1, shape=[numClasses]))\n",
    "\n",
    "prediction = (tf.matmul(last, weight) + bias)"
   ]
  },
  {
   "cell_type": "markdown",
   "metadata": {},
   "source": [
    "Next, we’ll define correct prediction and accuracy metrics to track how the network is doing. The correct prediction formulation works by looking at the index of the maximum value of the 2 output values, and then seeing whether it matches with the training labels. "
   ]
  },
  {
   "cell_type": "code",
   "execution_count": 19,
   "metadata": {
    "collapsed": true
   },
   "outputs": [],
   "source": [
    "correctPred = tf.equal(tf.argmax(prediction,1), tf.argmax(labels,1))\n",
    "accuracy = tf.reduce_mean(tf.cast(correctPred, tf.float32))"
   ]
  },
  {
   "cell_type": "markdown",
   "metadata": {},
   "source": [
    "We’ll define a standard cross entropy loss with a softmax layer put on top of the final prediction values. For the optimizer, we’ll use Adam and the default learning rate of .001. "
   ]
  },
  {
   "cell_type": "code",
   "execution_count": 20,
   "metadata": {
    "collapsed": true
   },
   "outputs": [],
   "source": [
    "loss = tf.reduce_mean(tf.nn.softmax_cross_entropy_with_logits(logits=prediction, labels=labels))\n",
    "optimizer = tf.train.AdamOptimizer().minimize(loss)"
   ]
  },
  {
   "cell_type": "markdown",
   "metadata": {},
   "source": [
    "Tensorboard to visualize the loss and accuracy values:"
   ]
  },
  {
   "cell_type": "code",
   "execution_count": 21,
   "metadata": {},
   "outputs": [],
   "source": [
    "tf.summary.scalar('Loss', loss)\n",
    "tf.summary.scalar('Accuracy', accuracy)\n",
    "merged = tf.summary.merge_all()\n",
    "logdir = \"tensorboard/\" + datetime.datetime.now().strftime(\"%Y%m%d-%H%M%S\") + \"/\"\n",
    "with tf.Session() as sess:\n",
    "    writer = tf.summary.FileWriter(logdir, sess.graph)"
   ]
  },
  {
   "cell_type": "markdown",
   "metadata": {},
   "source": [
    "Helper functions to get the training and testing batches. Training is done on 4/5 of the dataset and testing on 1/5."
   ]
  },
  {
   "cell_type": "code",
   "execution_count": 22,
   "metadata": {
    "collapsed": true
   },
   "outputs": [],
   "source": [
    "def getTrainBatch():\n",
    "    labels = []\n",
    "    arr = np.zeros([batchSize, maxSeqLength])\n",
    "    for i in range(batchSize):\n",
    "        if (i % 2 == 0):\n",
    "            num = randint(1,979)\n",
    "            labels.append([1,0])\n",
    "        else:\n",
    "            num = randint(1019,1999)\n",
    "            labels.append([0,1])\n",
    "        arr[i] = ids[num-1:num]\n",
    "    return arr, labels\n",
    "\n",
    "def getTestBatch():\n",
    "    labels = []\n",
    "    arr = np.zeros([batchSize, maxSeqLength])\n",
    "    for i in range(batchSize):\n",
    "        num = randint(979,1019)\n",
    "        if (num <= 999):\n",
    "            labels.append([1,0])\n",
    "        else:\n",
    "            labels.append([0,1])\n",
    "        arr[i] = ids[num-1:num]\n",
    "    return arr, labels"
   ]
  },
  {
   "cell_type": "markdown",
   "metadata": {},
   "source": [
    "We train the model by loading in a batch of reviews and their associated labels. We compute the optimizer since that is the component that minimizes our loss function.\n",
    "\n",
    "Instead of training the network we can also load in a pretrained model."
   ]
  },
  {
   "cell_type": "code",
   "execution_count": 23,
   "metadata": {
    "collapsed": true
   },
   "outputs": [],
   "source": [
    "# sess = tf.InteractiveSession()\n",
    "# saver = tf.train.Saver()\n",
    "# sess.run(tf.global_variables_initializer())\n",
    "\n",
    "# for i in range(iterations):\n",
    "#    #Next Batch of reviews\n",
    "#    nextBatch, nextBatchLabels = getTrainBatch();\n",
    "#    sess.run(optimizer, {input_data: nextBatch, labels: nextBatchLabels})\n",
    "   \n",
    "#    #Write summary to Tensorboard\n",
    "#    if (i % 50 == 0):\n",
    "#        summary = sess.run(merged, {input_data: nextBatch, labels: nextBatchLabels})\n",
    "#        writer.add_summary(summary, i)\n",
    "\n",
    "#    #Save the network every 10,000 training iterations\n",
    "#    if (i % 10000 == 0 and i != 0):\n",
    "#        save_path = saver.save(sess, \"models/pretrained_lstm.ckpt\", global_step=i)\n",
    "#        print(\"saved to %s\" % save_path)\n",
    "# writer.close()"
   ]
  },
  {
   "cell_type": "markdown",
   "metadata": {},
   "source": [
    "Loading the Pretrained Model:"
   ]
  },
  {
   "cell_type": "code",
   "execution_count": 24,
   "metadata": {},
   "outputs": [
    {
     "name": "stdout",
     "output_type": "stream",
     "text": [
      "INFO:tensorflow:Restoring parameters from models/pretrained_lstm.ckpt-60000\n"
     ]
    }
   ],
   "source": [
    "sess = tf.InteractiveSession()\n",
    "saver = tf.train.Saver()\n",
    "\n",
    "saver = tf.train.import_meta_graph('models/pretrained_lstm.ckpt-60000.meta')\n",
    "saver.restore(sess,tf.train.latest_checkpoint('models'))"
   ]
  },
  {
   "cell_type": "markdown",
   "metadata": {},
   "source": [
    "To see the graph definition:"
   ]
  },
  {
   "cell_type": "code",
   "execution_count": 25,
   "metadata": {},
   "outputs": [
    {
     "name": "stdout",
     "output_type": "stream",
     "text": [
      "['gradients/rnn/while/basic_lstm_cell/BiasAdd_grad/tuple/control_dependency', 'gradients/rnn/while/basic_lstm_cell/BiasAdd_grad/tuple/control_dependency_1', 'gradients/rnn/while/basic_lstm_cell/MatMul_grad/MatMul', 'gradients/rnn/while/basic_lstm_cell/MatMul_grad/MatMul/Enter', 'gradients/rnn/while/basic_lstm_cell/MatMul_grad/MatMul_1', 'gradients/rnn/while/basic_lstm_cell/MatMul_grad/MatMul_1/f_acc', 'gradients/rnn/while/basic_lstm_cell/MatMul_grad/MatMul_1/Enter', 'gradients/rnn/while/basic_lstm_cell/MatMul_grad/MatMul_1/StackPushV2', 'gradients/rnn/while/basic_lstm_cell/MatMul_grad/MatMul_1/StackPopV2', 'gradients/rnn/while/basic_lstm_cell/MatMul_grad/MatMul_1/StackPopV2/Enter', 'gradients/rnn/while/basic_lstm_cell/MatMul_grad/tuple/group_deps', 'gradients/rnn/while/basic_lstm_cell/MatMul_grad/tuple/control_dependency', 'gradients/rnn/while/basic_lstm_cell/MatMul_grad/tuple/control_dependency_1', 'gradients/rnn/while/basic_lstm_cell/BiasAdd/Enter_grad/b_acc', 'gradients/rnn/while/basic_lstm_cell/BiasAdd/Enter_grad/b_acc_1', 'gradients/rnn/while/basic_lstm_cell/BiasAdd/Enter_grad/b_acc_2', 'gradients/rnn/while/basic_lstm_cell/BiasAdd/Enter_grad/Switch', 'gradients/rnn/while/basic_lstm_cell/BiasAdd/Enter_grad/Add', 'gradients/rnn/while/basic_lstm_cell/BiasAdd/Enter_grad/NextIteration', 'gradients/rnn/while/basic_lstm_cell/BiasAdd/Enter_grad/b_acc_3', 'gradients/rnn/while/basic_lstm_cell/concat_grad/Rank', 'gradients/rnn/while/basic_lstm_cell/concat_grad/mod', 'gradients/rnn/while/basic_lstm_cell/concat_grad/mod/Const', 'gradients/rnn/while/basic_lstm_cell/concat_grad/Shape', 'gradients/rnn/while/basic_lstm_cell/concat_grad/Shape_1', 'gradients/rnn/while/basic_lstm_cell/concat_grad/ConcatOffset', 'gradients/rnn/while/basic_lstm_cell/concat_grad/Slice', 'gradients/rnn/while/basic_lstm_cell/concat_grad/Slice_1', 'gradients/rnn/while/basic_lstm_cell/concat_grad/tuple/group_deps', 'gradients/rnn/while/basic_lstm_cell/concat_grad/tuple/control_dependency', 'gradients/rnn/while/basic_lstm_cell/concat_grad/tuple/control_dependency_1', 'gradients/rnn/while/basic_lstm_cell/MatMul/Enter_grad/b_acc', 'gradients/rnn/while/basic_lstm_cell/MatMul/Enter_grad/b_acc_1', 'gradients/rnn/while/basic_lstm_cell/MatMul/Enter_grad/b_acc_2', 'gradients/rnn/while/basic_lstm_cell/MatMul/Enter_grad/Switch', 'gradients/rnn/while/basic_lstm_cell/MatMul/Enter_grad/Add', 'gradients/rnn/while/basic_lstm_cell/MatMul/Enter_grad/NextIteration', 'gradients/rnn/while/basic_lstm_cell/MatMul/Enter_grad/b_acc_3', 'gradients/rnn/while/Switch_4_grad_1/NextIteration', 'beta1_power/initial_value_1', 'beta1_power_1', 'beta1_power/Assign_1', 'beta1_power/read_1', 'beta2_power/initial_value_1', 'beta2_power_1', 'beta2_power/Assign_1', 'beta2_power/read_1', 'rnn/basic_lstm_cell/kernel/Adam/Initializer/zeros_1', 'rnn/basic_lstm_cell/kernel/Adam_2', 'rnn/basic_lstm_cell/kernel/Adam/Assign_1']\n"
     ]
    }
   ],
   "source": [
    "graph = tf.get_default_graph()\n",
    "print([op.name for op in graph.get_operations()][1100:1150])"
   ]
  },
  {
   "cell_type": "markdown",
   "metadata": {
    "collapsed": true
   },
   "source": [
    "## 3 - Testing"
   ]
  },
  {
   "cell_type": "markdown",
   "metadata": {},
   "source": [
    "We can use the getTestBatch() function to generate test batches to test our model like so:"
   ]
  },
  {
   "cell_type": "code",
   "execution_count": 26,
   "metadata": {},
   "outputs": [
    {
     "name": "stdout",
     "output_type": "stream",
     "text": [
      "Accuracy for this batch: 50.0\n",
      "Accuracy for this batch: 58.3333313465\n",
      "Accuracy for this batch: 54.1666686535\n",
      "Accuracy for this batch: 54.1666686535\n",
      "Accuracy for this batch: 58.3333313465\n",
      "Accuracy for this batch: 66.6666686535\n",
      "Accuracy for this batch: 54.1666686535\n",
      "Accuracy for this batch: 41.6666656733\n",
      "Accuracy for this batch: 50.0\n",
      "Accuracy for this batch: 54.1666686535\n"
     ]
    }
   ],
   "source": [
    "iterations = 10\n",
    "for i in range(iterations):\n",
    "    nextBatch, nextBatchLabels = getTestBatch();\n",
    "    print(\"Accuracy for this batch:\", (sess.run(accuracy, {input_data: nextBatch, labels: nextBatchLabels})) * 100)"
   ]
  },
  {
   "cell_type": "markdown",
   "metadata": {},
   "source": [
    "We can also provide our own reviews / sentences and see how our model classifies its sentiment! A few helper functions to clean up the provided text:"
   ]
  },
  {
   "cell_type": "code",
   "execution_count": 27,
   "metadata": {
    "collapsed": true
   },
   "outputs": [],
   "source": [
    "def cleanSentences(string):\n",
    "    string = string.lower().replace(\"<br />\", \" \")\n",
    "    return re.sub(strip_special_chars, \"\", string.lower())\n",
    "\n",
    "def getSentenceMatrix(sentence):\n",
    "    arr = np.zeros([batchSize, maxSeqLength])\n",
    "    sentenceMatrix = np.zeros([batchSize,maxSeqLength], dtype='int32')\n",
    "    cleanedSentence = cleanSentences(sentence)\n",
    "    split = cleanedSentence.split()\n",
    "    for indexCounter,word in enumerate(split):\n",
    "        try:\n",
    "            sentenceMatrix[0,indexCounter] = wordsList.index(word)\n",
    "        except ValueError:\n",
    "            sentenceMatrix[0,indexCounter] = 399999 #Vector for unkown words\n",
    "    return sentenceMatrix"
   ]
  },
  {
   "cell_type": "markdown",
   "metadata": {},
   "source": [
    "We can provide our own input text like so:"
   ]
  },
  {
   "cell_type": "code",
   "execution_count": 28,
   "metadata": {
    "collapsed": true
   },
   "outputs": [],
   "source": [
    "inputText = \"Worst movie of all times. Bad screenplay, pathetic acting\""
   ]
  },
  {
   "cell_type": "markdown",
   "metadata": {},
   "source": [
    "Or we can provide an input text from another dataset. This one is a negative review from the [IMDB dataset](http://ai.stanford.edu/~amaas/data/sentiment/)"
   ]
  },
  {
   "cell_type": "code",
   "execution_count": 39,
   "metadata": {
    "collapsed": true
   },
   "outputs": [],
   "source": [
    "# inputText = '''Nine minutes of psychedelic, pulsating, often symmetric abstract images, \n",
    "# are enough to drive anyone crazy. I did spot a full-frame eye at the start, \n",
    "# and later some birds silhouetted against other colors. It was just not my cup of tea. \n",
    "# It's about 8 minutes too long.'''"
   ]
  },
  {
   "cell_type": "code",
   "execution_count": 40,
   "metadata": {},
   "outputs": [],
   "source": [
    "inputMatrix = getSentenceMatrix(inputText)"
   ]
  },
  {
   "cell_type": "code",
   "execution_count": 41,
   "metadata": {},
   "outputs": [
    {
     "name": "stdout",
     "output_type": "stream",
     "text": [
      "Negative Sentiment\n"
     ]
    }
   ],
   "source": [
    "predictedSentiment = sess.run(prediction, {input_data: inputMatrix})[0]\n",
    "\n",
    "if (predictedSentiment[0] > predictedSentiment[1]):\n",
    "    print(\"Positive Sentiment\")\n",
    "else:\n",
    "    print(\"Negative Sentiment\")"
   ]
  },
  {
   "cell_type": "markdown",
   "metadata": {},
   "source": [
    "Now let's try a positive review:"
   ]
  },
  {
   "cell_type": "code",
   "execution_count": 32,
   "metadata": {
    "collapsed": true
   },
   "outputs": [],
   "source": [
    "secondInputText = \"Interstellar is the best movie I have ever seen. The sotryline is gripping and intense\""
   ]
  },
  {
   "cell_type": "markdown",
   "metadata": {},
   "source": [
    "Or we can input one from the IMDB dataset"
   ]
  },
  {
   "cell_type": "code",
   "execution_count": 36,
   "metadata": {},
   "outputs": [],
   "source": [
    "# secondInputText = '''When I was a kid I watched this many times over, \n",
    "# and I remember whistling the \"Happy Cat\" song quite often. \n",
    "# All the songs are great, and actually meorable, unlike many children's musicals, \n",
    "# where the songs are just stuck in for no real reason. The scenes and costumes are lavish, \n",
    "# and the acting is very well-done, which isn't surprising, considering the cast. \n",
    "# I'd recommend this film to children and parents alike, who love magic and fairytales. \n",
    "# And it actually IS a movie you can watch together, as it won't drive adults up the wall.'''"
   ]
  },
  {
   "cell_type": "code",
   "execution_count": 37,
   "metadata": {
    "collapsed": true
   },
   "outputs": [],
   "source": [
    "secondInputMatrix = getSentenceMatrix(secondInputText)"
   ]
  },
  {
   "cell_type": "code",
   "execution_count": 38,
   "metadata": {},
   "outputs": [
    {
     "name": "stdout",
     "output_type": "stream",
     "text": [
      "Positive Sentiment\n"
     ]
    }
   ],
   "source": [
    "predictedSentiment = sess.run(prediction, {input_data: secondInputMatrix})[0]\n",
    "if (predictedSentiment[0] > predictedSentiment[1]):\n",
    "    print(\"Positive Sentiment\")\n",
    "else:\n",
    "    print(\"Negative Sentiment\")"
   ]
  }
 ],
 "metadata": {
  "anaconda-cloud": {},
  "kernelspec": {
   "display_name": "Python 3",
   "language": "python",
   "name": "python3"
  },
  "language_info": {
   "codemirror_mode": {
    "name": "ipython",
    "version": 3
   },
   "file_extension": ".py",
   "mimetype": "text/x-python",
   "name": "python",
   "nbconvert_exporter": "python",
   "pygments_lexer": "ipython3",
   "version": "3.6.1"
  }
 },
 "nbformat": 4,
 "nbformat_minor": 1
}
